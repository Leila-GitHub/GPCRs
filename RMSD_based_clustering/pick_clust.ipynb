{
 "cells": [
  {
   "cell_type": "code",
   "execution_count": 1,
   "metadata": {},
   "outputs": [
    {
     "data": {
      "text/plain": [
       "' Author: Rezvan (Leila) Chitsazi '"
      ]
     },
     "execution_count": 1,
     "metadata": {},
     "output_type": "execute_result"
    }
   ],
   "source": [
    "import sys\n",
    "\n",
    "sys.path.append( '/home/leila/gpcr/ga/analysis/clustering_cb1')\n",
    "\n",
    "from all_imports import *\n",
    "from clustering import cnvt_1D_array_2D, elbow_method, compute_inertia, compute_gap\n",
    "\n",
    "%load_ext autoreload\n",
    "%autoreload 2\n",
    "\n",
    "''' Author: Rezvan (Leila) Chitsazi '''"
   ]
  },
  {
   "cell_type": "code",
   "execution_count": null,
   "metadata": {},
   "outputs": [],
   "source": [
    "gap_ = Image(filename=(home + '/gpcr/ga/analysis/clustering_cb1/Gap_Statistic.png'), width=\"650\")\n",
    "gap_"
   ]
  },
  {
   "cell_type": "markdown",
   "metadata": {},
   "source": [
    "\"\"\"\n",
    "\n",
    "1st property: Inertia tries to minimize the intracluster distance (more compact cluster)\n",
    "2nd property: Dunn index, the different clusters should be as different from each other as possible\n",
    "\n",
    "distance between each centroid and data belongs to that cluster\n",
    "Dunn index: distance between two clusters (min(inter cluster distance)/max(intra cluster distance))\n",
    "we want to maximize the Dunn index\n",
    "min (inter cluster distance): Clusters are far apart\n",
    "max (intra cluster distance): Clusters are compact\n",
    "\n",
    "\"\"\""
   ]
  },
  {
   "cell_type": "code",
   "execution_count": null,
   "metadata": {},
   "outputs": [],
   "source": [
    "nframe = 10000\n",
    "cnvt_1D_array_2D('rmsd-dist-matrix_' + str(nframe) + '_TMs')"
   ]
  },
  {
   "cell_type": "code",
   "execution_count": null,
   "metadata": {},
   "outputs": [],
   "source": [
    "data = pd.read_csv('data_2d.csv', delimiter=',')\n",
    "elbow_method(data)"
   ]
  },
  {
   "cell_type": "code",
   "execution_count": null,
   "metadata": {},
   "outputs": [],
   "source": [
    "\"\"\" Gap Statistic \"\"\"\n",
    "\n",
    "\n",
    "gap, reference_inertia, ondata_inertia = compute_gap(KMeans())\n",
    "\n",
    "\n",
    "k_max=12\n",
    "plt.plot(range(1, k_max+1), reference_inertia,'-o', label='reference')\n",
    "plt.plot(range(1, k_max+1), ondata_inertia,'-o', label='data')\n",
    "plt.xlabel('k')\n",
    "plt.ylabel('log(inertia)')\n",
    "plt.show()\n",
    "\n",
    "\"\"\" log(inertia) = log(Wk) \"\"\";\n",
    "\n",
    "plt.plot(range(1, k_max+1), gap, '-o')\n",
    "plt.ylabel('gap')\n",
    "plt.xlabel('k');"
   ]
  }
 ],
 "metadata": {
  "kernelspec": {
   "display_name": "Python 3 (ipykernel)",
   "language": "python",
   "name": "python3"
  },
  "language_info": {
   "codemirror_mode": {
    "name": "ipython",
    "version": 3
   },
   "file_extension": ".py",
   "mimetype": "text/x-python",
   "name": "python",
   "nbconvert_exporter": "python",
   "pygments_lexer": "ipython3",
   "version": "3.8.12"
  }
 },
 "nbformat": 4,
 "nbformat_minor": 4
}
